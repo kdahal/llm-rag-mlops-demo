{
 "cells": [
  {
   "cell_type": "code",
   "execution_count": null,
   "id": "50b81781-5adb-4a99-a5a4-543437977192",
   "metadata": {},
   "outputs": [],
   "source": [
    "pip install python-dotenv langchain langchain_community faiss-cpu huggingface_hub sentence-transformers mlflow"
   ]
  },
  {
   "cell_type": "code",
   "execution_count": null,
   "id": "43d0d267-dc43-4561-8df1-c8a3c5e510df",
   "metadata": {},
   "outputs": [],
   "source": [
    "# Import necessary libraries\n",
    "import os\n",
    "from dotenv import load_dotenv\n",
    "from langchain_community.document_loaders import TextLoader\n",
    "from langchain.text_splitter import RecursiveCharacterTextSplitter\n",
    "from langchain_community.embeddings import HuggingFaceEmbeddings\n",
    "from langchain_community.vectorstores import FAISS\n",
    "from langchain.chains import RetrievalQA\n",
    "from langchain_community.llms import HuggingFaceHub\n",
    "import mlflow\n",
    "import mlflow.langchain"
   ]
  },
  {
   "cell_type": "code",
   "execution_count": null,
   "id": "ab3e5581-2292-484d-ae95-ca60faaf2a13",
   "metadata": {},
   "outputs": [],
   "source": [
    "# Step 1: Load environment variables (for Hugging Face API key)\n",
    "load_dotenv()  # Ensure .env file has HUGGINGFACEHUB_API_TOKEN\n",
    "if not os.getenv(\"HUGGINGFACEHUB_API_TOKEN\"):\n",
    "    raise ValueError(\"HUGGINGFACEHUB_API_TOKEN not found in .env file\")"
   ]
  },
  {
   "cell_type": "code",
   "execution_count": null,
   "id": "4ff877a5-1961-4928-bb89-2992254ce1ae",
   "metadata": {},
   "outputs": [],
   "source": [
    "# Step 2: Load and split documents\n",
    "try:\n",
    "    loader = TextLoader(\"data/sample_doc.txt\")  # Ensure this file exists\n",
    "    documents = loader.load()\n",
    "except FileNotFoundError:\n",
    "    raise FileNotFoundError(\"Please create 'data/sample_doc.txt' with sample text\")\n",
    "\n",
    "text_splitter = RecursiveCharacterTextSplitter(chunk_size=1000, chunk_overlap=200)\n",
    "texts = text_splitter.split_documents(documents)"
   ]
  },
  {
   "cell_type": "code",
   "execution_count": null,
   "id": "4222d33b-56fa-4494-b031-d982d7843265",
   "metadata": {},
   "outputs": [],
   "source": [
    "# Step 3: Create embeddings and vector store\n",
    "embeddings = HuggingFaceEmbeddings(model_name=\"sentence-transformers/all-MiniLM-L6-v2\")\n",
    "vectorstore = FAISS.from_documents(texts, embeddings)"
   ]
  },
  {
   "cell_type": "code",
   "execution_count": null,
   "id": "422c11ea-4146-4c7c-8ed2-8aa0f83bc01d",
   "metadata": {},
   "outputs": [],
   "source": [
    "# Step 4: Set up the LLM\n",
    "llm = HuggingFaceHub(repo_id=\"google/flan-t5-base\", model_kwargs={\"temperature\": 0.7})  # Switched to flan-t5-base for better results"
   ]
  },
  {
   "cell_type": "code",
   "execution_count": null,
   "id": "51b2ccd6-046d-463f-8b54-bd3d5099fea4",
   "metadata": {},
   "outputs": [],
   "source": [
    "# Step 5: Create RAG chain\n",
    "qa_chain = RetrievalQA.from_chain_type(\n",
    "    llm=llm,\n",
    "    chain_type=\"stuff\",\n",
    "    retriever=vectorstore.as_retriever(search_kwargs={\"k\": 3}),\n",
    "    return_source_documents=True\n",
    ")"
   ]
  },
  {
   "cell_type": "code",
   "execution_count": null,
   "id": "cbeaf42b-f6d4-4a21-adc8-8b62dc332e06",
   "metadata": {},
   "outputs": [],
   "source": [
    "# Step 6: Run query and log with MLflow\n",
    "query = \"What is the main topic?\"\n",
    "with mlflow.start_run():\n",
    "    # Run the query\n",
    "    result = qa_chain({\"query\": query})\n",
    "    # Log model and parameters\n",
    "    mlflow.langchain.log_model(qa_chain, \"rag_model\")\n",
    "    mlflow.log_param(\"embedding_model\", \"sentence-transformers/all-MiniLM-L6-v2\")\n",
    "    mlflow.log_param(\"llm_model\", \"google/flan-t5-base\")\n",
    "    # Log response length\n",
    "    mlflow.log_metric(\"response_length\", len(result[\"result\"]))"
   ]
  },
  {
   "cell_type": "code",
   "execution_count": null,
   "id": "dd2d196c-e2b9-41d8-bc0e-5d00044daa8a",
   "metadata": {},
   "outputs": [],
   "source": [
    "# Step 7: Print result\n",
    "print(result[\"result\"])"
   ]
  }
 ],
 "metadata": {
  "kernelspec": {
   "display_name": "Python 3 (ipykernel)",
   "language": "python",
   "name": "python3"
  },
  "language_info": {
   "codemirror_mode": {
    "name": "ipython",
    "version": 3
   },
   "file_extension": ".py",
   "mimetype": "text/x-python",
   "name": "python",
   "nbconvert_exporter": "python",
   "pygments_lexer": "ipython3",
   "version": "3.13.3"
  }
 },
 "nbformat": 4,
 "nbformat_minor": 5
}
